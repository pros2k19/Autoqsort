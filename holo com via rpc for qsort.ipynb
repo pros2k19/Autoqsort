{
 "cells": [
  {
   "cell_type": "code",
   "execution_count": 1,
   "id": "angry-commission",
   "metadata": {},
   "outputs": [],
   "source": [
    "import re"
   ]
  },
  {
   "cell_type": "code",
   "execution_count": 2,
   "id": "emotional-assembly",
   "metadata": {},
   "outputs": [],
   "source": [
    "def parse_dac(fn):\n",
    "    \"\"\"\n",
    "    Parse a .dac file at path `fn` from the CEOS corrector software and returns a Dict[str, float]\n",
    "    \"\"\"\n",
    "    with open(fn, \"r\") as f:\n",
    "        pairs = [re.sub(\" +\", \" \", part.strip()).split()\n",
    "                 for line in f.readlines()\n",
    "                 for part in line.split(\";\")\n",
    "                 if not line.startswith(\"#\") and part.strip() != '']\n",
    "        return dict([(k, float(v.replace(\"mA\", \"\")))\n",
    "                     for (k, v) in pairs])"
   ]
  },
  {
   "cell_type": "code",
   "execution_count": 3,
   "id": "tight-function",
   "metadata": {},
   "outputs": [],
   "source": [
    "def serialize_dac(dac_settings):\n",
    "    \"\"\"\n",
    "    Serialize a Dict[str, float] to CEOS .dac format and returns the resulting string.\n",
    "    \n",
    "    All float values are interpreted as having unit mA.\n",
    "    \"\"\"\n",
    "    return \";\\n\".join(\n",
    "        \"%s %.6fmA\" % ((k, v))\n",
    "        for (k, v) in dac_settings.items()\n",
    "    )"
   ]
  },
  {
   "cell_type": "code",
   "execution_count": 4,
   "id": "olive-acoustic",
   "metadata": {},
   "outputs": [],
   "source": [
    "def write_dac(fn, dac_settings):\n",
    "    with open(fn, \"w\") as f:\n",
    "        f.write(serialize_dac(dac_settings))"
   ]
  },
  {
   "cell_type": "code",
   "execution_count": 60,
   "id": "resident-authentication",
   "metadata": {},
   "outputs": [],
   "source": [
    "write_dac(\"/home/alex/DatenHolo/Clausen/dac/test.dac\", {\"ADL\": 700})"
   ]
  },
  {
   "cell_type": "code",
   "execution_count": 5,
   "id": "sixth-virtue",
   "metadata": {},
   "outputs": [],
   "source": [
    "import rpyc"
   ]
  },
  {
   "cell_type": "code",
   "execution_count": 6,
   "id": "thermal-springer",
   "metadata": {},
   "outputs": [],
   "source": [
    "conn = rpyc.classic.connect(\"192.168.0.2\")"
   ]
  },
  {
   "cell_type": "code",
   "execution_count": 7,
   "id": "pressing-satellite",
   "metadata": {},
   "outputs": [],
   "source": [
    "ct = conn.modules['comtypes']\n",
    "ctc = conn.modules['comtypes.client']\n",
    "ct.CoInitialize()\n",
    "\n",
    "m = ctc.CreateObject('TEMScripting.Instrument.1')\n",
    "t = ctc.CreateObject('ESVision.Application')"
   ]
  },
  {
   "cell_type": "markdown",
   "id": "racial-transmission",
   "metadata": {},
   "source": [
    "# ImageShift"
   ]
  },
  {
   "cell_type": "code",
   "execution_count": null,
   "id": "dressed-relation",
   "metadata": {},
   "outputs": [],
   "source": [
    "v = m.Projection.ImageShift"
   ]
  },
  {
   "cell_type": "code",
   "execution_count": null,
   "id": "tough-animation",
   "metadata": {},
   "outputs": [],
   "source": [
    "v.X = 1e-5\n",
    "v.y = 0\n",
    "m.Projection.ImageShift = v"
   ]
  },
  {
   "cell_type": "code",
   "execution_count": null,
   "id": "abstract-jacob",
   "metadata": {},
   "outputs": [],
   "source": [
    "v.X = 0\n",
    "v.y = 0\n",
    "m.Projection.ImageShift = v"
   ]
  },
  {
   "cell_type": "markdown",
   "id": "round-scope",
   "metadata": {},
   "source": [
    "# UserShift"
   ]
  },
  {
   "cell_type": "code",
   "execution_count": null,
   "id": "together-study",
   "metadata": {},
   "outputs": [],
   "source": [
    "ills = m.Illumination.Shift\n",
    "ills.X = 2e-5\n",
    "ills.Y = 0\n",
    "m.Illumination.Shift = ills"
   ]
  },
  {
   "cell_type": "markdown",
   "id": "together-vampire",
   "metadata": {},
   "source": [
    "# Intensity? C2/C3"
   ]
  },
  {
   "cell_type": "code",
   "execution_count": null,
   "id": "finite-senator",
   "metadata": {},
   "outputs": [],
   "source": [
    "intensity_old = -0.01628691120509436"
   ]
  },
  {
   "cell_type": "code",
   "execution_count": null,
   "id": "consistent-privilege",
   "metadata": {},
   "outputs": [],
   "source": [
    "m.Illumination.Intensity = m.Illumination.Intensity + 0.01\n",
    "print(m.Illumination.Intensity)"
   ]
  },
  {
   "cell_type": "code",
   "execution_count": null,
   "id": "governing-formation",
   "metadata": {},
   "outputs": [],
   "source": [
    "m.Illumination.Shift.X"
   ]
  },
  {
   "cell_type": "markdown",
   "id": "opposed-congo",
   "metadata": {},
   "source": [
    "# GUI automation"
   ]
  },
  {
   "cell_type": "code",
   "execution_count": null,
   "id": "italic-despite",
   "metadata": {},
   "outputs": [],
   "source": [
    "sys = conn.modules['sys']"
   ]
  },
  {
   "cell_type": "code",
   "execution_count": null,
   "id": "remarkable-example",
   "metadata": {},
   "outputs": [],
   "source": [
    "sys.path"
   ]
  },
  {
   "cell_type": "code",
   "execution_count": null,
   "id": "abandoned-playback",
   "metadata": {},
   "outputs": [],
   "source": [
    "conn.modules['win32api']"
   ]
  },
  {
   "cell_type": "code",
   "execution_count": null,
   "id": "piano-palestine",
   "metadata": {},
   "outputs": [],
   "source": [
    "application = conn.modules['pywinauto.application']"
   ]
  },
  {
   "cell_type": "markdown",
   "id": "atlantic-merchandise",
   "metadata": {},
   "source": [
    "# COM exploration"
   ]
  },
  {
   "cell_type": "code",
   "execution_count": 15,
   "id": "alive-obligation",
   "metadata": {},
   "outputs": [
    {
     "data": {
      "text/plain": [
       "<class 'comtypes.gen._BC0A2B03_10FF_11D3_AE00_00A024CBA50C_0_1_9.Illumination'>"
      ]
     },
     "execution_count": 15,
     "metadata": {},
     "output_type": "execute_result"
    }
   ],
   "source": [
    "ct.gen._BC0A2B03_10FF_11D3_AE00_00A024CBA50C_0_1_9.Illumination"
   ]
  },
  {
   "cell_type": "code",
   "execution_count": 84,
   "id": "polyphonic-tumor",
   "metadata": {},
   "outputs": [],
   "source": [
    "corr = ctc.CreateObject('CeosCorrReAtAdapter.CeosCorrReAtAdapter.1')"
   ]
  },
  {
   "cell_type": "code",
   "execution_count": 86,
   "id": "robust-corrections",
   "metadata": {},
   "outputs": [
    {
     "data": {
      "text/plain": [
       "'198.211.143.10'"
      ]
     },
     "execution_count": 86,
     "metadata": {},
     "output_type": "execute_result"
    }
   ],
   "source": [
    "corr.IPAddress"
   ]
  },
  {
   "cell_type": "code",
   "execution_count": 103,
   "id": "described-withdrawal",
   "metadata": {},
   "outputs": [
    {
     "data": {
      "text/plain": [
       "False"
      ]
     },
     "execution_count": 103,
     "metadata": {},
     "output_type": "execute_result"
    }
   ],
   "source": [
    "corr.goOnline()"
   ]
  },
  {
   "cell_type": "code",
   "execution_count": 92,
   "id": "norwegian-toner",
   "metadata": {},
   "outputs": [
    {
     "data": {
      "text/plain": [
       "'CESCOR_kernel_host'"
      ]
     },
     "execution_count": 92,
     "metadata": {},
     "output_type": "execute_result"
    }
   ],
   "source": [
    "corr.hostName"
   ]
  },
  {
   "cell_type": "code",
   "execution_count": 99,
   "id": "timely-sustainability",
   "metadata": {},
   "outputs": [
    {
     "data": {
      "text/plain": [
       "False"
      ]
     },
     "execution_count": 99,
     "metadata": {},
     "output_type": "execute_result"
    }
   ],
   "source": [
    "corr.connected"
   ]
  },
  {
   "cell_type": "code",
   "execution_count": 101,
   "id": "connected-solomon",
   "metadata": {},
   "outputs": [
    {
     "data": {
      "text/plain": [
       "7046"
      ]
     },
     "execution_count": 101,
     "metadata": {},
     "output_type": "execute_result"
    }
   ],
   "source": [
    "corr.commandPortNr"
   ]
  },
  {
   "cell_type": "code",
   "execution_count": 85,
   "id": "colonial-defeat",
   "metadata": {},
   "outputs": [
    {
     "data": {
      "text/plain": [
       "['AddRef',\n",
       " 'GetIDsOfNames',\n",
       " 'GetTypeInfo',\n",
       " 'GetTypeInfoCount',\n",
       " 'IPAddress',\n",
       " 'Invoke',\n",
       " 'QueryInterface',\n",
       " 'Release',\n",
       " '_AddRef',\n",
       " '_GetIDsOfNames',\n",
       " '_GetTypeInfo',\n",
       " '_IDispatch__com_GetIDsOfNames',\n",
       " '_IDispatch__com_GetTypeInfo',\n",
       " '_IDispatch__com_GetTypeInfoCount',\n",
       " '_IDispatch__com_Invoke',\n",
       " '_IUnknown__com_AddRef',\n",
       " '_IUnknown__com_QueryInterface',\n",
       " '_IUnknown__com_Release',\n",
       " '_Invoke',\n",
       " '_QueryInterface',\n",
       " '_Release',\n",
       " '__bool__',\n",
       " '__class__',\n",
       " '__clsid',\n",
       " '__cmp__',\n",
       " '__com_interface__',\n",
       " '__ctypes_from_outparam__',\n",
       " '__del__',\n",
       " '__delattr__',\n",
       " '__dict__',\n",
       " '__dir__',\n",
       " '__doc__',\n",
       " '__eq__',\n",
       " '__format__',\n",
       " '__ge__',\n",
       " '__getattr__',\n",
       " '__getattribute__',\n",
       " '__gt__',\n",
       " '__hash__',\n",
       " '__init__',\n",
       " '__le__',\n",
       " '__lt__',\n",
       " '__map_case__',\n",
       " '__module__',\n",
       " '__ne__',\n",
       " '__new__',\n",
       " '__reduce__',\n",
       " '__reduce_ex__',\n",
       " '__repr__',\n",
       " '__setattr__',\n",
       " '__setstate__',\n",
       " '__sizeof__',\n",
       " '__str__',\n",
       " '__subclasshook__',\n",
       " '__weakref__',\n",
       " '_b_base_',\n",
       " '_b_needsfree_',\n",
       " '_case_insensitive_',\n",
       " '_compointer_base__get_value',\n",
       " '_disp_methods_',\n",
       " '_idlflags_',\n",
       " '_iid_',\n",
       " '_invoke',\n",
       " '_methods_',\n",
       " '_needs_com_addref_',\n",
       " '_objects',\n",
       " '_type_',\n",
       " 'addValue',\n",
       " 'commandPortNr',\n",
       " 'commandTimeout',\n",
       " 'connected',\n",
       " 'connectionTimeout',\n",
       " 'eventPortNr',\n",
       " 'from_param',\n",
       " 'getAberrations',\n",
       " 'getCalibrations',\n",
       " 'getConfigFiles',\n",
       " 'getMaximumRanges',\n",
       " 'getSacFile',\n",
       " 'getValue',\n",
       " 'getValues',\n",
       " 'goOffline',\n",
       " 'goOnline',\n",
       " 'hostName',\n",
       " 'sendConfigFiles',\n",
       " 'sendFilename',\n",
       " 'sendSacFile',\n",
       " 'setAberrations',\n",
       " 'setOpticalStateAndValuesExtern',\n",
       " 'setSettingLabel',\n",
       " 'setSoftReset',\n",
       " 'setValueExtern',\n",
       " 'setValuesExtern',\n",
       " 'value']"
      ]
     },
     "execution_count": 85,
     "metadata": {},
     "output_type": "execute_result"
    }
   ],
   "source": [
    "dir(corr)"
   ]
  },
  {
   "cell_type": "code",
   "execution_count": 54,
   "id": "minimal-france",
   "metadata": {},
   "outputs": [],
   "source": [
    "lens_ = ctc.CreateObject('adaFsLens.adaFsLens')"
   ]
  },
  {
   "cell_type": "code",
   "execution_count": 59,
   "id": "sharp-stability",
   "metadata": {},
   "outputs": [
    {
     "ename": "_ctypes.COMError",
     "evalue": "(-2147220995, 'Object is not connected to server', (None, None, None, 0, None))\n\n========= Remote Traceback (1) =========\nTraceback (most recent call last):\n  File \"C:\\Python34\\venvs\\autoqsort\\lib\\site-packages\\rpyc\\core\\protocol.py\", line 322, in _dispatch_request\n    res = self._HANDLERS[handler](self, *args)\n  File \"C:\\Python34\\venvs\\autoqsort\\lib\\site-packages\\rpyc\\core\\protocol.py\", line 577, in _handle_call\n    return obj(*args, **dict(kwargs))\n_ctypes.COMError: (-2147220995, 'Object is not connected to server', (None, None, None, 0, None))\n",
     "output_type": "error",
     "traceback": [
      "\u001b[0;31m---------------------------------------------------------------------------\u001b[0m",
      "\u001b[0;31m_ctypes.COMError\u001b[0m                          Traceback (most recent call last)",
      "\u001b[0;32m<ipython-input-59-f21f3c0e63a0>\u001b[0m in \u001b[0;36m<module>\u001b[0;34m\u001b[0m\n\u001b[0;32m----> 1\u001b[0;31m \u001b[0mlens\u001b[0m \u001b[0;34m=\u001b[0m \u001b[0mctc\u001b[0m\u001b[0;34m.\u001b[0m\u001b[0mCreateObject\u001b[0m\u001b[0;34m(\u001b[0m\u001b[0;34m'adaFsLens.adaFsLens.1'\u001b[0m\u001b[0;34m)\u001b[0m\u001b[0;34m.\u001b[0m\u001b[0mGet\u001b[0m\u001b[0;34m(\u001b[0m\u001b[0;34m)\u001b[0m\u001b[0;34m\u001b[0m\u001b[0;34m\u001b[0m\u001b[0m\n\u001b[0m",
      "\u001b[0;32m~/miniconda/envs/libertem/lib/python3.8/site-packages/rpyc/core/netref.py\u001b[0m in \u001b[0;36m__call__\u001b[0;34m(_self, *args, **kwargs)\u001b[0m\n\u001b[1;32m    238\u001b[0m         \u001b[0;32mdef\u001b[0m \u001b[0m__call__\u001b[0m\u001b[0;34m(\u001b[0m\u001b[0m_self\u001b[0m\u001b[0;34m,\u001b[0m \u001b[0;34m*\u001b[0m\u001b[0margs\u001b[0m\u001b[0;34m,\u001b[0m \u001b[0;34m**\u001b[0m\u001b[0mkwargs\u001b[0m\u001b[0;34m)\u001b[0m\u001b[0;34m:\u001b[0m\u001b[0;34m\u001b[0m\u001b[0;34m\u001b[0m\u001b[0m\n\u001b[1;32m    239\u001b[0m             \u001b[0mkwargs\u001b[0m \u001b[0;34m=\u001b[0m \u001b[0mtuple\u001b[0m\u001b[0;34m(\u001b[0m\u001b[0mkwargs\u001b[0m\u001b[0;34m.\u001b[0m\u001b[0mitems\u001b[0m\u001b[0;34m(\u001b[0m\u001b[0;34m)\u001b[0m\u001b[0;34m)\u001b[0m\u001b[0;34m\u001b[0m\u001b[0;34m\u001b[0m\u001b[0m\n\u001b[0;32m--> 240\u001b[0;31m             \u001b[0;32mreturn\u001b[0m \u001b[0msyncreq\u001b[0m\u001b[0;34m(\u001b[0m\u001b[0m_self\u001b[0m\u001b[0;34m,\u001b[0m \u001b[0mconsts\u001b[0m\u001b[0;34m.\u001b[0m\u001b[0mHANDLE_CALL\u001b[0m\u001b[0;34m,\u001b[0m \u001b[0margs\u001b[0m\u001b[0;34m,\u001b[0m \u001b[0mkwargs\u001b[0m\u001b[0;34m)\u001b[0m\u001b[0;34m\u001b[0m\u001b[0;34m\u001b[0m\u001b[0m\n\u001b[0m\u001b[1;32m    241\u001b[0m         \u001b[0m__call__\u001b[0m\u001b[0;34m.\u001b[0m\u001b[0m__doc__\u001b[0m \u001b[0;34m=\u001b[0m \u001b[0mdoc\u001b[0m\u001b[0;34m\u001b[0m\u001b[0;34m\u001b[0m\u001b[0m\n\u001b[1;32m    242\u001b[0m         \u001b[0;32mreturn\u001b[0m \u001b[0m__call__\u001b[0m\u001b[0;34m\u001b[0m\u001b[0;34m\u001b[0m\u001b[0m\n",
      "\u001b[0;32m~/miniconda/envs/libertem/lib/python3.8/site-packages/rpyc/core/netref.py\u001b[0m in \u001b[0;36msyncreq\u001b[0;34m(proxy, handler, *args)\u001b[0m\n\u001b[1;32m     61\u001b[0m     \"\"\"\n\u001b[1;32m     62\u001b[0m     \u001b[0mconn\u001b[0m \u001b[0;34m=\u001b[0m \u001b[0mobject\u001b[0m\u001b[0;34m.\u001b[0m\u001b[0m__getattribute__\u001b[0m\u001b[0;34m(\u001b[0m\u001b[0mproxy\u001b[0m\u001b[0;34m,\u001b[0m \u001b[0;34m\"____conn__\"\u001b[0m\u001b[0;34m)\u001b[0m\u001b[0;34m\u001b[0m\u001b[0;34m\u001b[0m\u001b[0m\n\u001b[0;32m---> 63\u001b[0;31m     \u001b[0;32mreturn\u001b[0m \u001b[0mconn\u001b[0m\u001b[0;34m.\u001b[0m\u001b[0msync_request\u001b[0m\u001b[0;34m(\u001b[0m\u001b[0mhandler\u001b[0m\u001b[0;34m,\u001b[0m \u001b[0mproxy\u001b[0m\u001b[0;34m,\u001b[0m \u001b[0;34m*\u001b[0m\u001b[0margs\u001b[0m\u001b[0;34m)\u001b[0m\u001b[0;34m\u001b[0m\u001b[0;34m\u001b[0m\u001b[0m\n\u001b[0m\u001b[1;32m     64\u001b[0m \u001b[0;34m\u001b[0m\u001b[0m\n\u001b[1;32m     65\u001b[0m \u001b[0;34m\u001b[0m\u001b[0m\n",
      "\u001b[0;32m~/miniconda/envs/libertem/lib/python3.8/site-packages/rpyc/core/protocol.py\u001b[0m in \u001b[0;36msync_request\u001b[0;34m(self, handler, *args)\u001b[0m\n\u001b[1;32m    471\u001b[0m         \"\"\"\n\u001b[1;32m    472\u001b[0m         \u001b[0mtimeout\u001b[0m \u001b[0;34m=\u001b[0m \u001b[0mself\u001b[0m\u001b[0;34m.\u001b[0m\u001b[0m_config\u001b[0m\u001b[0;34m[\u001b[0m\u001b[0;34m\"sync_request_timeout\"\u001b[0m\u001b[0;34m]\u001b[0m\u001b[0;34m\u001b[0m\u001b[0;34m\u001b[0m\u001b[0m\n\u001b[0;32m--> 473\u001b[0;31m         \u001b[0;32mreturn\u001b[0m \u001b[0mself\u001b[0m\u001b[0;34m.\u001b[0m\u001b[0masync_request\u001b[0m\u001b[0;34m(\u001b[0m\u001b[0mhandler\u001b[0m\u001b[0;34m,\u001b[0m \u001b[0;34m*\u001b[0m\u001b[0margs\u001b[0m\u001b[0;34m,\u001b[0m \u001b[0mtimeout\u001b[0m\u001b[0;34m=\u001b[0m\u001b[0mtimeout\u001b[0m\u001b[0;34m)\u001b[0m\u001b[0;34m.\u001b[0m\u001b[0mvalue\u001b[0m\u001b[0;34m\u001b[0m\u001b[0;34m\u001b[0m\u001b[0m\n\u001b[0m\u001b[1;32m    474\u001b[0m \u001b[0;34m\u001b[0m\u001b[0m\n\u001b[1;32m    475\u001b[0m     \u001b[0;32mdef\u001b[0m \u001b[0m_async_request\u001b[0m\u001b[0;34m(\u001b[0m\u001b[0mself\u001b[0m\u001b[0;34m,\u001b[0m \u001b[0mhandler\u001b[0m\u001b[0;34m,\u001b[0m \u001b[0margs\u001b[0m\u001b[0;34m=\u001b[0m\u001b[0;34m(\u001b[0m\u001b[0;34m)\u001b[0m\u001b[0;34m,\u001b[0m \u001b[0mcallback\u001b[0m\u001b[0;34m=\u001b[0m\u001b[0;34m(\u001b[0m\u001b[0;32mlambda\u001b[0m \u001b[0ma\u001b[0m\u001b[0;34m,\u001b[0m \u001b[0mb\u001b[0m\u001b[0;34m:\u001b[0m \u001b[0;32mNone\u001b[0m\u001b[0;34m)\u001b[0m\u001b[0;34m)\u001b[0m\u001b[0;34m:\u001b[0m  \u001b[0;31m# serving\u001b[0m\u001b[0;34m\u001b[0m\u001b[0;34m\u001b[0m\u001b[0m\n",
      "\u001b[0;32m~/miniconda/envs/libertem/lib/python3.8/site-packages/rpyc/core/async_.py\u001b[0m in \u001b[0;36mvalue\u001b[0;34m(self)\u001b[0m\n\u001b[1;32m    100\u001b[0m         \u001b[0mself\u001b[0m\u001b[0;34m.\u001b[0m\u001b[0mwait\u001b[0m\u001b[0;34m(\u001b[0m\u001b[0;34m)\u001b[0m\u001b[0;34m\u001b[0m\u001b[0;34m\u001b[0m\u001b[0m\n\u001b[1;32m    101\u001b[0m         \u001b[0;32mif\u001b[0m \u001b[0mself\u001b[0m\u001b[0;34m.\u001b[0m\u001b[0m_is_exc\u001b[0m\u001b[0;34m:\u001b[0m\u001b[0;34m\u001b[0m\u001b[0;34m\u001b[0m\u001b[0m\n\u001b[0;32m--> 102\u001b[0;31m             \u001b[0;32mraise\u001b[0m \u001b[0mself\u001b[0m\u001b[0;34m.\u001b[0m\u001b[0m_obj\u001b[0m\u001b[0;34m\u001b[0m\u001b[0;34m\u001b[0m\u001b[0m\n\u001b[0m\u001b[1;32m    103\u001b[0m         \u001b[0;32melse\u001b[0m\u001b[0;34m:\u001b[0m\u001b[0;34m\u001b[0m\u001b[0;34m\u001b[0m\u001b[0m\n\u001b[1;32m    104\u001b[0m             \u001b[0;32mreturn\u001b[0m \u001b[0mself\u001b[0m\u001b[0;34m.\u001b[0m\u001b[0m_obj\u001b[0m\u001b[0;34m\u001b[0m\u001b[0;34m\u001b[0m\u001b[0m\n",
      "\u001b[0;31m_ctypes.COMError\u001b[0m: (-2147220995, 'Object is not connected to server', (None, None, None, 0, None))\n\n========= Remote Traceback (1) =========\nTraceback (most recent call last):\n  File \"C:\\Python34\\venvs\\autoqsort\\lib\\site-packages\\rpyc\\core\\protocol.py\", line 322, in _dispatch_request\n    res = self._HANDLERS[handler](self, *args)\n  File \"C:\\Python34\\venvs\\autoqsort\\lib\\site-packages\\rpyc\\core\\protocol.py\", line 577, in _handle_call\n    return obj(*args, **dict(kwargs))\n_ctypes.COMError: (-2147220995, 'Object is not connected to server', (None, None, None, 0, None))\n"
     ]
    }
   ],
   "source": [
    "lens = ctc.CreateObject('adaFsLens.adaFsLens.1').Get()"
   ]
  },
  {
   "cell_type": "code",
   "execution_count": 48,
   "id": "smaller-yahoo",
   "metadata": {},
   "outputs": [
    {
     "data": {
      "text/plain": [
       "['ActivateFixation',\n",
       " 'AddRef',\n",
       " 'Change',\n",
       " 'Close',\n",
       " 'Get',\n",
       " 'GetExcitation',\n",
       " 'GetFixationState',\n",
       " 'GetIDsOfNames',\n",
       " 'GetMode',\n",
       " 'GetModulatorActivation',\n",
       " 'GetModulatorAmplitude',\n",
       " 'GetModulatorFrequency',\n",
       " 'GetModulatorParameters',\n",
       " 'GetModulatorPhase',\n",
       " 'GetModulatorShape',\n",
       " 'GetTypeInfo',\n",
       " 'GetTypeInfoCount',\n",
       " 'Init',\n",
       " 'Invoke',\n",
       " 'QueryInterface',\n",
       " 'Release',\n",
       " 'Set',\n",
       " 'SetExcitation',\n",
       " 'SetLorentzExcitation',\n",
       " 'SetMode',\n",
       " 'SetModulatorActivation',\n",
       " 'SetModulatorAmplitude',\n",
       " 'SetModulatorFrequency',\n",
       " 'SetModulatorParameters',\n",
       " 'SetModulatorPhase',\n",
       " 'SetModulatorShape',\n",
       " '_AddRef',\n",
       " '_GetIDsOfNames',\n",
       " '_GetTypeInfo',\n",
       " '_IADA_fsLens__com_ActivateFixation',\n",
       " '_IADA_fsLens__com_Change',\n",
       " '_IADA_fsLens__com_Close',\n",
       " '_IADA_fsLens__com_Get',\n",
       " '_IADA_fsLens__com_GetExcitation',\n",
       " '_IADA_fsLens__com_GetFixationState',\n",
       " '_IADA_fsLens__com_GetMode',\n",
       " '_IADA_fsLens__com_GetModulatorActivation',\n",
       " '_IADA_fsLens__com_GetModulatorAmplitude',\n",
       " '_IADA_fsLens__com_GetModulatorFrequency',\n",
       " '_IADA_fsLens__com_GetModulatorParameters',\n",
       " '_IADA_fsLens__com_GetModulatorPhase',\n",
       " '_IADA_fsLens__com_GetModulatorShape',\n",
       " '_IADA_fsLens__com_Init',\n",
       " '_IADA_fsLens__com_Set',\n",
       " '_IADA_fsLens__com_SetExcitation',\n",
       " '_IADA_fsLens__com_SetLorentzExcitation',\n",
       " '_IADA_fsLens__com_SetMode',\n",
       " '_IADA_fsLens__com_SetModulatorActivation',\n",
       " '_IADA_fsLens__com_SetModulatorAmplitude',\n",
       " '_IADA_fsLens__com_SetModulatorFrequency',\n",
       " '_IADA_fsLens__com_SetModulatorParameters',\n",
       " '_IADA_fsLens__com_SetModulatorPhase',\n",
       " '_IADA_fsLens__com_SetModulatorShape',\n",
       " '_IDispatch__com_GetIDsOfNames',\n",
       " '_IDispatch__com_GetTypeInfo',\n",
       " '_IDispatch__com_GetTypeInfoCount',\n",
       " '_IDispatch__com_Invoke',\n",
       " '_IUnknown__com_AddRef',\n",
       " '_IUnknown__com_QueryInterface',\n",
       " '_IUnknown__com_Release',\n",
       " '_Invoke',\n",
       " '_QueryInterface',\n",
       " '_Release',\n",
       " '__bool__',\n",
       " '__class__',\n",
       " '__clsid',\n",
       " '__cmp__',\n",
       " '__com_interface__',\n",
       " '__ctypes_from_outparam__',\n",
       " '__del__',\n",
       " '__delattr__',\n",
       " '__dict__',\n",
       " '__dir__',\n",
       " '__doc__',\n",
       " '__eq__',\n",
       " '__format__',\n",
       " '__ge__',\n",
       " '__getattr__',\n",
       " '__getattribute__',\n",
       " '__gt__',\n",
       " '__hash__',\n",
       " '__init__',\n",
       " '__le__',\n",
       " '__lt__',\n",
       " '__map_case__',\n",
       " '__module__',\n",
       " '__ne__',\n",
       " '__new__',\n",
       " '__reduce__',\n",
       " '__reduce_ex__',\n",
       " '__repr__',\n",
       " '__setattr__',\n",
       " '__setstate__',\n",
       " '__sizeof__',\n",
       " '__str__',\n",
       " '__subclasshook__',\n",
       " '__weakref__',\n",
       " '_b_base_',\n",
       " '_b_needsfree_',\n",
       " '_case_insensitive_',\n",
       " '_compointer_base__get_value',\n",
       " '_idlflags_',\n",
       " '_iid_',\n",
       " '_invoke',\n",
       " '_methods_',\n",
       " '_needs_com_addref_',\n",
       " '_objects',\n",
       " '_type_',\n",
       " 'from_param',\n",
       " 'value']"
      ]
     },
     "execution_count": 48,
     "metadata": {},
     "output_type": "execute_result"
    }
   ],
   "source": [
    "dir(lens)"
   ]
  },
  {
   "cell_type": "code",
   "execution_count": 53,
   "id": "normal-consultancy",
   "metadata": {},
   "outputs": [
    {
     "ename": "_ctypes.COMError",
     "evalue": "(-2147220995, 'Object is not connected to server', (None, None, None, 0, None))\n\n========= Remote Traceback (1) =========\nTraceback (most recent call last):\n  File \"C:\\Python34\\venvs\\autoqsort\\lib\\site-packages\\rpyc\\core\\protocol.py\", line 322, in _dispatch_request\n    res = self._HANDLERS[handler](self, *args)\n  File \"C:\\Python34\\venvs\\autoqsort\\lib\\site-packages\\rpyc\\core\\protocol.py\", line 577, in _handle_call\n    return obj(*args, **dict(kwargs))\n_ctypes.COMError: (-2147220995, 'Object is not connected to server', (None, None, None, 0, None))\n",
     "output_type": "error",
     "traceback": [
      "\u001b[0;31m---------------------------------------------------------------------------\u001b[0m",
      "\u001b[0;31m_ctypes.COMError\u001b[0m                          Traceback (most recent call last)",
      "\u001b[0;32m<ipython-input-53-4040efa1cf15>\u001b[0m in \u001b[0;36m<module>\u001b[0;34m\u001b[0m\n\u001b[0;32m----> 1\u001b[0;31m \u001b[0mlens\u001b[0m\u001b[0;34m.\u001b[0m\u001b[0mGet\u001b[0m\u001b[0;34m(\u001b[0m\u001b[0;34m)\u001b[0m\u001b[0;34m\u001b[0m\u001b[0;34m\u001b[0m\u001b[0m\n\u001b[0m",
      "\u001b[0;32m~/miniconda/envs/libertem/lib/python3.8/site-packages/rpyc/core/netref.py\u001b[0m in \u001b[0;36m__call__\u001b[0;34m(_self, *args, **kwargs)\u001b[0m\n\u001b[1;32m    238\u001b[0m         \u001b[0;32mdef\u001b[0m \u001b[0m__call__\u001b[0m\u001b[0;34m(\u001b[0m\u001b[0m_self\u001b[0m\u001b[0;34m,\u001b[0m \u001b[0;34m*\u001b[0m\u001b[0margs\u001b[0m\u001b[0;34m,\u001b[0m \u001b[0;34m**\u001b[0m\u001b[0mkwargs\u001b[0m\u001b[0;34m)\u001b[0m\u001b[0;34m:\u001b[0m\u001b[0;34m\u001b[0m\u001b[0;34m\u001b[0m\u001b[0m\n\u001b[1;32m    239\u001b[0m             \u001b[0mkwargs\u001b[0m \u001b[0;34m=\u001b[0m \u001b[0mtuple\u001b[0m\u001b[0;34m(\u001b[0m\u001b[0mkwargs\u001b[0m\u001b[0;34m.\u001b[0m\u001b[0mitems\u001b[0m\u001b[0;34m(\u001b[0m\u001b[0;34m)\u001b[0m\u001b[0;34m)\u001b[0m\u001b[0;34m\u001b[0m\u001b[0;34m\u001b[0m\u001b[0m\n\u001b[0;32m--> 240\u001b[0;31m             \u001b[0;32mreturn\u001b[0m \u001b[0msyncreq\u001b[0m\u001b[0;34m(\u001b[0m\u001b[0m_self\u001b[0m\u001b[0;34m,\u001b[0m \u001b[0mconsts\u001b[0m\u001b[0;34m.\u001b[0m\u001b[0mHANDLE_CALL\u001b[0m\u001b[0;34m,\u001b[0m \u001b[0margs\u001b[0m\u001b[0;34m,\u001b[0m \u001b[0mkwargs\u001b[0m\u001b[0;34m)\u001b[0m\u001b[0;34m\u001b[0m\u001b[0;34m\u001b[0m\u001b[0m\n\u001b[0m\u001b[1;32m    241\u001b[0m         \u001b[0m__call__\u001b[0m\u001b[0;34m.\u001b[0m\u001b[0m__doc__\u001b[0m \u001b[0;34m=\u001b[0m \u001b[0mdoc\u001b[0m\u001b[0;34m\u001b[0m\u001b[0;34m\u001b[0m\u001b[0m\n\u001b[1;32m    242\u001b[0m         \u001b[0;32mreturn\u001b[0m \u001b[0m__call__\u001b[0m\u001b[0;34m\u001b[0m\u001b[0;34m\u001b[0m\u001b[0m\n",
      "\u001b[0;32m~/miniconda/envs/libertem/lib/python3.8/site-packages/rpyc/core/netref.py\u001b[0m in \u001b[0;36msyncreq\u001b[0;34m(proxy, handler, *args)\u001b[0m\n\u001b[1;32m     61\u001b[0m     \"\"\"\n\u001b[1;32m     62\u001b[0m     \u001b[0mconn\u001b[0m \u001b[0;34m=\u001b[0m \u001b[0mobject\u001b[0m\u001b[0;34m.\u001b[0m\u001b[0m__getattribute__\u001b[0m\u001b[0;34m(\u001b[0m\u001b[0mproxy\u001b[0m\u001b[0;34m,\u001b[0m \u001b[0;34m\"____conn__\"\u001b[0m\u001b[0;34m)\u001b[0m\u001b[0;34m\u001b[0m\u001b[0;34m\u001b[0m\u001b[0m\n\u001b[0;32m---> 63\u001b[0;31m     \u001b[0;32mreturn\u001b[0m \u001b[0mconn\u001b[0m\u001b[0;34m.\u001b[0m\u001b[0msync_request\u001b[0m\u001b[0;34m(\u001b[0m\u001b[0mhandler\u001b[0m\u001b[0;34m,\u001b[0m \u001b[0mproxy\u001b[0m\u001b[0;34m,\u001b[0m \u001b[0;34m*\u001b[0m\u001b[0margs\u001b[0m\u001b[0;34m)\u001b[0m\u001b[0;34m\u001b[0m\u001b[0;34m\u001b[0m\u001b[0m\n\u001b[0m\u001b[1;32m     64\u001b[0m \u001b[0;34m\u001b[0m\u001b[0m\n\u001b[1;32m     65\u001b[0m \u001b[0;34m\u001b[0m\u001b[0m\n",
      "\u001b[0;32m~/miniconda/envs/libertem/lib/python3.8/site-packages/rpyc/core/protocol.py\u001b[0m in \u001b[0;36msync_request\u001b[0;34m(self, handler, *args)\u001b[0m\n\u001b[1;32m    471\u001b[0m         \"\"\"\n\u001b[1;32m    472\u001b[0m         \u001b[0mtimeout\u001b[0m \u001b[0;34m=\u001b[0m \u001b[0mself\u001b[0m\u001b[0;34m.\u001b[0m\u001b[0m_config\u001b[0m\u001b[0;34m[\u001b[0m\u001b[0;34m\"sync_request_timeout\"\u001b[0m\u001b[0;34m]\u001b[0m\u001b[0;34m\u001b[0m\u001b[0;34m\u001b[0m\u001b[0m\n\u001b[0;32m--> 473\u001b[0;31m         \u001b[0;32mreturn\u001b[0m \u001b[0mself\u001b[0m\u001b[0;34m.\u001b[0m\u001b[0masync_request\u001b[0m\u001b[0;34m(\u001b[0m\u001b[0mhandler\u001b[0m\u001b[0;34m,\u001b[0m \u001b[0;34m*\u001b[0m\u001b[0margs\u001b[0m\u001b[0;34m,\u001b[0m \u001b[0mtimeout\u001b[0m\u001b[0;34m=\u001b[0m\u001b[0mtimeout\u001b[0m\u001b[0;34m)\u001b[0m\u001b[0;34m.\u001b[0m\u001b[0mvalue\u001b[0m\u001b[0;34m\u001b[0m\u001b[0;34m\u001b[0m\u001b[0m\n\u001b[0m\u001b[1;32m    474\u001b[0m \u001b[0;34m\u001b[0m\u001b[0m\n\u001b[1;32m    475\u001b[0m     \u001b[0;32mdef\u001b[0m \u001b[0m_async_request\u001b[0m\u001b[0;34m(\u001b[0m\u001b[0mself\u001b[0m\u001b[0;34m,\u001b[0m \u001b[0mhandler\u001b[0m\u001b[0;34m,\u001b[0m \u001b[0margs\u001b[0m\u001b[0;34m=\u001b[0m\u001b[0;34m(\u001b[0m\u001b[0;34m)\u001b[0m\u001b[0;34m,\u001b[0m \u001b[0mcallback\u001b[0m\u001b[0;34m=\u001b[0m\u001b[0;34m(\u001b[0m\u001b[0;32mlambda\u001b[0m \u001b[0ma\u001b[0m\u001b[0;34m,\u001b[0m \u001b[0mb\u001b[0m\u001b[0;34m:\u001b[0m \u001b[0;32mNone\u001b[0m\u001b[0;34m)\u001b[0m\u001b[0;34m)\u001b[0m\u001b[0;34m:\u001b[0m  \u001b[0;31m# serving\u001b[0m\u001b[0;34m\u001b[0m\u001b[0;34m\u001b[0m\u001b[0m\n",
      "\u001b[0;32m~/miniconda/envs/libertem/lib/python3.8/site-packages/rpyc/core/async_.py\u001b[0m in \u001b[0;36mvalue\u001b[0;34m(self)\u001b[0m\n\u001b[1;32m    100\u001b[0m         \u001b[0mself\u001b[0m\u001b[0;34m.\u001b[0m\u001b[0mwait\u001b[0m\u001b[0;34m(\u001b[0m\u001b[0;34m)\u001b[0m\u001b[0;34m\u001b[0m\u001b[0;34m\u001b[0m\u001b[0m\n\u001b[1;32m    101\u001b[0m         \u001b[0;32mif\u001b[0m \u001b[0mself\u001b[0m\u001b[0;34m.\u001b[0m\u001b[0m_is_exc\u001b[0m\u001b[0;34m:\u001b[0m\u001b[0;34m\u001b[0m\u001b[0;34m\u001b[0m\u001b[0m\n\u001b[0;32m--> 102\u001b[0;31m             \u001b[0;32mraise\u001b[0m \u001b[0mself\u001b[0m\u001b[0;34m.\u001b[0m\u001b[0m_obj\u001b[0m\u001b[0;34m\u001b[0m\u001b[0;34m\u001b[0m\u001b[0m\n\u001b[0m\u001b[1;32m    103\u001b[0m         \u001b[0;32melse\u001b[0m\u001b[0;34m:\u001b[0m\u001b[0;34m\u001b[0m\u001b[0;34m\u001b[0m\u001b[0m\n\u001b[1;32m    104\u001b[0m             \u001b[0;32mreturn\u001b[0m \u001b[0mself\u001b[0m\u001b[0;34m.\u001b[0m\u001b[0m_obj\u001b[0m\u001b[0;34m\u001b[0m\u001b[0;34m\u001b[0m\u001b[0m\n",
      "\u001b[0;31m_ctypes.COMError\u001b[0m: (-2147220995, 'Object is not connected to server', (None, None, None, 0, None))\n\n========= Remote Traceback (1) =========\nTraceback (most recent call last):\n  File \"C:\\Python34\\venvs\\autoqsort\\lib\\site-packages\\rpyc\\core\\protocol.py\", line 322, in _dispatch_request\n    res = self._HANDLERS[handler](self, *args)\n  File \"C:\\Python34\\venvs\\autoqsort\\lib\\site-packages\\rpyc\\core\\protocol.py\", line 577, in _handle_call\n    return obj(*args, **dict(kwargs))\n_ctypes.COMError: (-2147220995, 'Object is not connected to server', (None, None, None, 0, None))\n"
     ]
    }
   ],
   "source": [
    "lens.Get()"
   ]
  },
  {
   "cell_type": "code",
   "execution_count": 35,
   "id": "offshore-hopkins",
   "metadata": {},
   "outputs": [
    {
     "ename": "_ctypes.COMError",
     "evalue": "(-2147220995, 'Object is not connected to server', ('No pointer to lens received. Did you use wrong lens name?', 'Tecnai full scripting adapter', None, 0, None))\n\n========= Remote Traceback (1) =========\nTraceback (most recent call last):\n  File \"C:\\Python34\\venvs\\autoqsort\\lib\\site-packages\\rpyc\\core\\protocol.py\", line 322, in _dispatch_request\n    res = self._HANDLERS[handler](self, *args)\n  File \"C:\\Python34\\venvs\\autoqsort\\lib\\site-packages\\rpyc\\core\\protocol.py\", line 577, in _handle_call\n    return obj(*args, **dict(kwargs))\n_ctypes.COMError: (-2147220995, 'Object is not connected to server', ('No pointer to lens received. Did you use wrong lens name?', 'Tecnai full scripting adapter', None, 0, None))\n",
     "output_type": "error",
     "traceback": [
      "\u001b[0;31m---------------------------------------------------------------------------\u001b[0m",
      "\u001b[0;31m_ctypes.COMError\u001b[0m                          Traceback (most recent call last)",
      "\u001b[0;32m<ipython-input-35-9d7de8e1d3d3>\u001b[0m in \u001b[0;36m<module>\u001b[0;34m\u001b[0m\n\u001b[1;32m      1\u001b[0m \u001b[0mlens\u001b[0m\u001b[0;34m.\u001b[0m\u001b[0mGetIDsOfNames\u001b[0m\u001b[0;34m\u001b[0m\u001b[0;34m\u001b[0m\u001b[0m\n\u001b[0;32m----> 2\u001b[0;31m \u001b[0mlens\u001b[0m\u001b[0;34m.\u001b[0m\u001b[0mInit\u001b[0m\u001b[0;34m(\u001b[0m\u001b[0mMachineName\u001b[0m\u001b[0;34m=\u001b[0m\u001b[0;34m\"localhost\"\u001b[0m\u001b[0;34m,\u001b[0m \u001b[0mServerName\u001b[0m\u001b[0;34m=\u001b[0m\u001b[0;34m\"localhost\"\u001b[0m\u001b[0;34m)\u001b[0m\u001b[0;34m\u001b[0m\u001b[0;34m\u001b[0m\u001b[0m\n\u001b[0m",
      "\u001b[0;32m~/miniconda/envs/libertem/lib/python3.8/site-packages/rpyc/core/netref.py\u001b[0m in \u001b[0;36m__call__\u001b[0;34m(_self, *args, **kwargs)\u001b[0m\n\u001b[1;32m    238\u001b[0m         \u001b[0;32mdef\u001b[0m \u001b[0m__call__\u001b[0m\u001b[0;34m(\u001b[0m\u001b[0m_self\u001b[0m\u001b[0;34m,\u001b[0m \u001b[0;34m*\u001b[0m\u001b[0margs\u001b[0m\u001b[0;34m,\u001b[0m \u001b[0;34m**\u001b[0m\u001b[0mkwargs\u001b[0m\u001b[0;34m)\u001b[0m\u001b[0;34m:\u001b[0m\u001b[0;34m\u001b[0m\u001b[0;34m\u001b[0m\u001b[0m\n\u001b[1;32m    239\u001b[0m             \u001b[0mkwargs\u001b[0m \u001b[0;34m=\u001b[0m \u001b[0mtuple\u001b[0m\u001b[0;34m(\u001b[0m\u001b[0mkwargs\u001b[0m\u001b[0;34m.\u001b[0m\u001b[0mitems\u001b[0m\u001b[0;34m(\u001b[0m\u001b[0;34m)\u001b[0m\u001b[0;34m)\u001b[0m\u001b[0;34m\u001b[0m\u001b[0;34m\u001b[0m\u001b[0m\n\u001b[0;32m--> 240\u001b[0;31m             \u001b[0;32mreturn\u001b[0m \u001b[0msyncreq\u001b[0m\u001b[0;34m(\u001b[0m\u001b[0m_self\u001b[0m\u001b[0;34m,\u001b[0m \u001b[0mconsts\u001b[0m\u001b[0;34m.\u001b[0m\u001b[0mHANDLE_CALL\u001b[0m\u001b[0;34m,\u001b[0m \u001b[0margs\u001b[0m\u001b[0;34m,\u001b[0m \u001b[0mkwargs\u001b[0m\u001b[0;34m)\u001b[0m\u001b[0;34m\u001b[0m\u001b[0;34m\u001b[0m\u001b[0m\n\u001b[0m\u001b[1;32m    241\u001b[0m         \u001b[0m__call__\u001b[0m\u001b[0;34m.\u001b[0m\u001b[0m__doc__\u001b[0m \u001b[0;34m=\u001b[0m \u001b[0mdoc\u001b[0m\u001b[0;34m\u001b[0m\u001b[0;34m\u001b[0m\u001b[0m\n\u001b[1;32m    242\u001b[0m         \u001b[0;32mreturn\u001b[0m \u001b[0m__call__\u001b[0m\u001b[0;34m\u001b[0m\u001b[0;34m\u001b[0m\u001b[0m\n",
      "\u001b[0;32m~/miniconda/envs/libertem/lib/python3.8/site-packages/rpyc/core/netref.py\u001b[0m in \u001b[0;36msyncreq\u001b[0;34m(proxy, handler, *args)\u001b[0m\n\u001b[1;32m     61\u001b[0m     \"\"\"\n\u001b[1;32m     62\u001b[0m     \u001b[0mconn\u001b[0m \u001b[0;34m=\u001b[0m \u001b[0mobject\u001b[0m\u001b[0;34m.\u001b[0m\u001b[0m__getattribute__\u001b[0m\u001b[0;34m(\u001b[0m\u001b[0mproxy\u001b[0m\u001b[0;34m,\u001b[0m \u001b[0;34m\"____conn__\"\u001b[0m\u001b[0;34m)\u001b[0m\u001b[0;34m\u001b[0m\u001b[0;34m\u001b[0m\u001b[0m\n\u001b[0;32m---> 63\u001b[0;31m     \u001b[0;32mreturn\u001b[0m \u001b[0mconn\u001b[0m\u001b[0;34m.\u001b[0m\u001b[0msync_request\u001b[0m\u001b[0;34m(\u001b[0m\u001b[0mhandler\u001b[0m\u001b[0;34m,\u001b[0m \u001b[0mproxy\u001b[0m\u001b[0;34m,\u001b[0m \u001b[0;34m*\u001b[0m\u001b[0margs\u001b[0m\u001b[0;34m)\u001b[0m\u001b[0;34m\u001b[0m\u001b[0;34m\u001b[0m\u001b[0m\n\u001b[0m\u001b[1;32m     64\u001b[0m \u001b[0;34m\u001b[0m\u001b[0m\n\u001b[1;32m     65\u001b[0m \u001b[0;34m\u001b[0m\u001b[0m\n",
      "\u001b[0;32m~/miniconda/envs/libertem/lib/python3.8/site-packages/rpyc/core/protocol.py\u001b[0m in \u001b[0;36msync_request\u001b[0;34m(self, handler, *args)\u001b[0m\n\u001b[1;32m    471\u001b[0m         \"\"\"\n\u001b[1;32m    472\u001b[0m         \u001b[0mtimeout\u001b[0m \u001b[0;34m=\u001b[0m \u001b[0mself\u001b[0m\u001b[0;34m.\u001b[0m\u001b[0m_config\u001b[0m\u001b[0;34m[\u001b[0m\u001b[0;34m\"sync_request_timeout\"\u001b[0m\u001b[0;34m]\u001b[0m\u001b[0;34m\u001b[0m\u001b[0;34m\u001b[0m\u001b[0m\n\u001b[0;32m--> 473\u001b[0;31m         \u001b[0;32mreturn\u001b[0m \u001b[0mself\u001b[0m\u001b[0;34m.\u001b[0m\u001b[0masync_request\u001b[0m\u001b[0;34m(\u001b[0m\u001b[0mhandler\u001b[0m\u001b[0;34m,\u001b[0m \u001b[0;34m*\u001b[0m\u001b[0margs\u001b[0m\u001b[0;34m,\u001b[0m \u001b[0mtimeout\u001b[0m\u001b[0;34m=\u001b[0m\u001b[0mtimeout\u001b[0m\u001b[0;34m)\u001b[0m\u001b[0;34m.\u001b[0m\u001b[0mvalue\u001b[0m\u001b[0;34m\u001b[0m\u001b[0;34m\u001b[0m\u001b[0m\n\u001b[0m\u001b[1;32m    474\u001b[0m \u001b[0;34m\u001b[0m\u001b[0m\n\u001b[1;32m    475\u001b[0m     \u001b[0;32mdef\u001b[0m \u001b[0m_async_request\u001b[0m\u001b[0;34m(\u001b[0m\u001b[0mself\u001b[0m\u001b[0;34m,\u001b[0m \u001b[0mhandler\u001b[0m\u001b[0;34m,\u001b[0m \u001b[0margs\u001b[0m\u001b[0;34m=\u001b[0m\u001b[0;34m(\u001b[0m\u001b[0;34m)\u001b[0m\u001b[0;34m,\u001b[0m \u001b[0mcallback\u001b[0m\u001b[0;34m=\u001b[0m\u001b[0;34m(\u001b[0m\u001b[0;32mlambda\u001b[0m \u001b[0ma\u001b[0m\u001b[0;34m,\u001b[0m \u001b[0mb\u001b[0m\u001b[0;34m:\u001b[0m \u001b[0;32mNone\u001b[0m\u001b[0;34m)\u001b[0m\u001b[0;34m)\u001b[0m\u001b[0;34m:\u001b[0m  \u001b[0;31m# serving\u001b[0m\u001b[0;34m\u001b[0m\u001b[0;34m\u001b[0m\u001b[0m\n",
      "\u001b[0;32m~/miniconda/envs/libertem/lib/python3.8/site-packages/rpyc/core/async_.py\u001b[0m in \u001b[0;36mvalue\u001b[0;34m(self)\u001b[0m\n\u001b[1;32m    100\u001b[0m         \u001b[0mself\u001b[0m\u001b[0;34m.\u001b[0m\u001b[0mwait\u001b[0m\u001b[0;34m(\u001b[0m\u001b[0;34m)\u001b[0m\u001b[0;34m\u001b[0m\u001b[0;34m\u001b[0m\u001b[0m\n\u001b[1;32m    101\u001b[0m         \u001b[0;32mif\u001b[0m \u001b[0mself\u001b[0m\u001b[0;34m.\u001b[0m\u001b[0m_is_exc\u001b[0m\u001b[0;34m:\u001b[0m\u001b[0;34m\u001b[0m\u001b[0;34m\u001b[0m\u001b[0m\n\u001b[0;32m--> 102\u001b[0;31m             \u001b[0;32mraise\u001b[0m \u001b[0mself\u001b[0m\u001b[0;34m.\u001b[0m\u001b[0m_obj\u001b[0m\u001b[0;34m\u001b[0m\u001b[0;34m\u001b[0m\u001b[0m\n\u001b[0m\u001b[1;32m    103\u001b[0m         \u001b[0;32melse\u001b[0m\u001b[0;34m:\u001b[0m\u001b[0;34m\u001b[0m\u001b[0;34m\u001b[0m\u001b[0m\n\u001b[1;32m    104\u001b[0m             \u001b[0;32mreturn\u001b[0m \u001b[0mself\u001b[0m\u001b[0;34m.\u001b[0m\u001b[0m_obj\u001b[0m\u001b[0;34m\u001b[0m\u001b[0;34m\u001b[0m\u001b[0m\n",
      "\u001b[0;31m_ctypes.COMError\u001b[0m: (-2147220995, 'Object is not connected to server', ('No pointer to lens received. Did you use wrong lens name?', 'Tecnai full scripting adapter', None, 0, None))\n\n========= Remote Traceback (1) =========\nTraceback (most recent call last):\n  File \"C:\\Python34\\venvs\\autoqsort\\lib\\site-packages\\rpyc\\core\\protocol.py\", line 322, in _dispatch_request\n    res = self._HANDLERS[handler](self, *args)\n  File \"C:\\Python34\\venvs\\autoqsort\\lib\\site-packages\\rpyc\\core\\protocol.py\", line 577, in _handle_call\n    return obj(*args, **dict(kwargs))\n_ctypes.COMError: (-2147220995, 'Object is not connected to server', ('No pointer to lens received. Did you use wrong lens name?', 'Tecnai full scripting adapter', None, 0, None))\n"
     ]
    }
   ],
   "source": [
    "lens.Init(MachineName=\"localhost\", ServerName=\"localhost\")"
   ]
  },
  {
   "cell_type": "code",
   "execution_count": 58,
   "id": "floral-campaign",
   "metadata": {},
   "outputs": [
    {
     "data": {
      "text/plain": [
       "'-0x7ffbfe03'"
      ]
     },
     "execution_count": 58,
     "metadata": {},
     "output_type": "execute_result"
    }
   ],
   "source": [
    "hex(-2147220995)"
   ]
  },
  {
   "cell_type": "markdown",
   "id": "monthly-activation",
   "metadata": {},
   "source": [
    "# ceos corrector \"automation\""
   ]
  },
  {
   "cell_type": "code",
   "execution_count": 72,
   "id": "modular-lodging",
   "metadata": {},
   "outputs": [],
   "source": [
    "pyautogui = conn.modules[\"pyautogui\"]"
   ]
  },
  {
   "cell_type": "code",
   "execution_count": 81,
   "id": "minor-arcade",
   "metadata": {},
   "outputs": [],
   "source": [
    "import os\n",
    "import time\n",
    "\n",
    "# import pyautogui\n",
    "\n",
    "TEMPLATE_DIR = r\"\\\\iff1166\\datenholo\\Clausen\\dac\\autoqsort\"\n",
    "\n",
    "def get_template(name):\n",
    "    return os.path.join(TEMPLATE_DIR, name)\n",
    "\n",
    "def merge_file(filename, timeout=15):\n",
    "    template_1 = get_template('corr_file_active.png')\n",
    "    template_2 = get_template('corr_file.png')\n",
    "    merge = get_template('merge_dialog.png')\n",
    "    matchlist = list(pyautogui.locateAllOnScreen(template_1))\n",
    "    print(\"matchlist\", matchlist)\n",
    "    if not matchlist:\n",
    "        matchlist = list(pyautogui.locateAllOnScreen(template_2))\n",
    "        if not matchlist:\n",
    "            raise RuntimeError(\"Found no match for target application\")\n",
    "        x, y, width, height = matchlist[0]\n",
    "        # Click on window title to activate window\n",
    "        pyautogui.click(x+60, y+5)\n",
    "    if len(matchlist) > 1:\n",
    "        raise RuntimeError(\"Found more than one matches for target application\")\n",
    "    # Hotkey for File -> merge\n",
    "    pyautogui.hotkey('ctrl', 'm')\n",
    "    # wait for file opening dialogue\n",
    "    start = time.time()\n",
    "    time.sleep(0.3)\n",
    "    while pyautogui.locateOnScreen(merge) is None:\n",
    "        if time.time() - start > timeout:\n",
    "           raise RuntimeError(\"Open file dialogue not detected within timeout period\")\n",
    "        time.sleep(0.5)\n",
    "    # Filename field is in focus\n",
    "    pyautogui.typewrite(filename)\n",
    "    pyautogui.press('enter')\n",
    "    # Time required to merge: GUI is greyed out during that time\n",
    "    time.sleep(0.8)"
   ]
  },
  {
   "cell_type": "code",
   "execution_count": 83,
   "id": "removed-plasma",
   "metadata": {},
   "outputs": [
    {
     "name": "stdout",
     "output_type": "stream",
     "text": [
      "matchlist []\n",
      "matchlist [(236, 78, 27, 35)]\n"
     ]
    }
   ],
   "source": [
    "write_dac(\"/home/alex/DatenHolo/Clausen/dac/test.dac\", {\"ADL\": 700})\n",
    "merge_file(r\"\\\\Iff1166\\datenholo\\Clausen\\dac\\test.dac\")\n",
    "write_dac(\"/home/alex/DatenHolo/Clausen/dac/test.dac\", {\"ADL\": 900})\n",
    "merge_file(r\"\\\\Iff1166\\datenholo\\Clausen\\dac\\test.dac\")"
   ]
  },
  {
   "cell_type": "code",
   "execution_count": null,
   "id": "careful-hacker",
   "metadata": {},
   "outputs": [],
   "source": []
  }
 ],
 "metadata": {
  "kernelspec": {
   "display_name": "Python 3",
   "language": "python",
   "name": "python3"
  },
  "language_info": {
   "codemirror_mode": {
    "name": "ipython",
    "version": 3
   },
   "file_extension": ".py",
   "mimetype": "text/x-python",
   "name": "python",
   "nbconvert_exporter": "python",
   "pygments_lexer": "ipython3",
   "version": "3.8.8"
  }
 },
 "nbformat": 4,
 "nbformat_minor": 5
}
